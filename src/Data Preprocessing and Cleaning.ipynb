{
 "cells": [
  {
   "cell_type": "code",
   "execution_count": 1,
   "metadata": {
    "collapsed": true
   },
   "outputs": [],
   "source": [
    "import os\n",
    "from cleaner import clean_years"
   ]
  },
  {
   "cell_type": "markdown",
   "metadata": {},
   "source": [
    "You can use the following lines to extract the texts from the XML files and apply some basic preprocessing steps to the raw texts.\n",
    "The preprocessing of the articles can take a long time, we advise to run these lines on small intervalls."
   ]
  },
  {
   "cell_type": "markdown",
   "metadata": {},
   "source": [
    "We assume that the texts are in xml files separated by month such as 01.xml, 02.xml, ... and classified into folders by year exactly as the data on the iccluster. For this example, we decided to retrieve the data from the \"Gazette de Lausanne\" between 1798 and 1805."
   ]
  },
  {
   "cell_type": "code",
   "execution_count": 2,
   "metadata": {
    "collapsed": false
   },
   "outputs": [
    {
     "name": "stdout",
     "output_type": "stream",
     "text": [
      "221 articles processed\n",
      "548 articles processed\n",
      "803 articles processed\n",
      "1123 articles processed\n",
      "1458 articles processed\n",
      "1756 articles processed\n",
      "2102 articles processed\n",
      "2417 articles processed\n",
      "2741 articles processed\n",
      "3069 articles processed\n",
      "3417 articles processed\n",
      "Found 11 texts.\n",
      "Year 1798 done\n",
      "333 articles processed\n",
      "629 articles processed\n",
      "965 articles processed\n",
      "1298 articles processed\n",
      "1707 articles processed\n",
      "2057 articles processed\n",
      "2394 articles processed\n",
      "2750 articles processed\n",
      "3057 articles processed\n",
      "3364 articles processed\n",
      "3669 articles processed\n",
      "3974 articles processed\n",
      "Found 12 texts.\n",
      "Year 1799 done\n",
      "Found 0 texts.\n",
      "Year 1800 done\n",
      "Found 0 texts.\n",
      "Year 1801 done\n",
      "Found 0 texts.\n",
      "Year 1802 done\n",
      "Found 0 texts.\n",
      "Year 1803 done\n",
      "129 articles processed\n",
      "253 articles processed\n",
      "390 articles processed\n",
      "556 articles processed\n",
      "763 articles processed\n",
      "1004 articles processed\n",
      "1240 articles processed\n",
      "1467 articles processed\n",
      "1695 articles processed\n",
      "1945 articles processed\n",
      "2183 articles processed\n",
      "2352 articles processed\n",
      "Found 12 texts.\n",
      "Year 1804 done\n",
      "191 articles processed\n",
      "339 articles processed\n",
      "536 articles processed\n",
      "715 articles processed\n",
      "899 articles processed\n",
      "1047 articles processed\n",
      "1240 articles processed\n",
      "1432 articles processed\n",
      "1601 articles processed\n",
      "1780 articles processed\n",
      "1956 articles processed\n",
      "2137 articles processed\n",
      "Found 12 texts.\n",
      "Year 1805 done\n"
     ]
    }
   ],
   "source": [
    "DATA_DIR = 'data'\n",
    "DIR_XML_DATA = os.path.join(DATA_DIR, 'GDL')\n",
    "DIR_OUTPUT_PKL_FILES = os.path.join(DATA_DIR, 'GDL_pkl')\n",
    "year_start = 1798\n",
    "year_end = 1805\n",
    "clean_years(DIR_XML_DATA, DIR_OUTPUT_PKL_FILES, year_start, year_end, False)"
   ]
  },
  {
   "cell_type": "code",
   "execution_count": null,
   "metadata": {
    "collapsed": true
   },
   "outputs": [],
   "source": []
  }
 ],
 "metadata": {
  "anaconda-cloud": {},
  "kernelspec": {
   "display_name": "Python [default]",
   "language": "python",
   "name": "python3"
  },
  "language_info": {
   "codemirror_mode": {
    "name": "ipython",
    "version": 3
   },
   "file_extension": ".py",
   "mimetype": "text/x-python",
   "name": "python",
   "nbconvert_exporter": "python",
   "pygments_lexer": "ipython3",
   "version": "3.5.2"
  }
 },
 "nbformat": 4,
 "nbformat_minor": 1
}
