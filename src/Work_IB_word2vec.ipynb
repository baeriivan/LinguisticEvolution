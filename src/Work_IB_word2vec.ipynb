{
 "cells": [
  {
   "cell_type": "markdown",
   "metadata": {},
   "source": [
    "Two great articles to get an insight on SGNS:\n",
    "- http://mccormickml.com/2016/04/19/word2vec-tutorial-the-skip-gram-model/\n",
    "- http://mccormickml.com/2017/01/11/word2vec-tutorial-part-2-negative-sampling/\n",
    "\n",
    "Paper that is used for reference in our choices:\n",
    "- https://arxiv.org/pdf/1605.09096.pdf"
   ]
  },
  {
   "cell_type": "code",
   "execution_count": 3,
   "metadata": {
    "collapsed": true
   },
   "outputs": [],
   "source": [
    "%matplotlib inline\n",
    "\n",
    "import os\n",
    "import pandas as pd\n",
    "import numpy as np\n",
    "import matplotlib.pyplot as plt\n",
    "import pickle\n",
    "from collections import Counter"
   ]
  },
  {
   "cell_type": "code",
   "execution_count": 4,
   "metadata": {
    "collapsed": false
   },
   "outputs": [
    {
     "name": "stderr",
     "output_type": "stream",
     "text": [
      "/home/bbaga/src/anaconda2/envs/py34/lib/python3.4/site-packages/gensim/utils.py:1015: UserWarning: Pattern library is not installed, lemmatization won't be available.\n",
      "  warnings.warn(\"Pattern library is not installed, lemmatization won't be available.\")\n"
     ]
    }
   ],
   "source": [
    "from gensim.models import Word2Vec"
   ]
  },
  {
   "cell_type": "code",
   "execution_count": 5,
   "metadata": {
    "collapsed": false
   },
   "outputs": [],
   "source": [
    "def loadYear(pickle_path):\n",
    "    with open( pickle_path, \"rb\" ) as f:\n",
    "        BoW = pickle.load(f)\n",
    "    data = []\n",
    "    for m in BoW:\n",
    "        for article in m:\n",
    "            data.append(article)\n",
    "    return data"
   ]
  },
  {
   "cell_type": "code",
   "execution_count": 36,
   "metadata": {
    "collapsed": false
   },
   "outputs": [],
   "source": [
    "def createModel(data):\n",
    "    return Word2Vec(data, size=300, window = 4, min_count=50, workers=4, sg=1, negative=1)"
   ]
  },
  {
   "cell_type": "code",
   "execution_count": 12,
   "metadata": {
    "collapsed": true
   },
   "outputs": [],
   "source": [
    "with open( \"../data/Cleaned/GDL/1847.pkl\", \"rb\" ) as f:\n",
    "    BoW1847 = pickle.load(f)"
   ]
  },
  {
   "cell_type": "code",
   "execution_count": 84,
   "metadata": {
    "collapsed": false
   },
   "outputs": [],
   "source": [
    "model1847 = createModel(\"../data/Cleaned/GDL/1847.pkl\")"
   ]
  },
  {
   "cell_type": "code",
   "execution_count": 66,
   "metadata": {
    "collapsed": false
   },
   "outputs": [
    {
     "data": {
      "text/plain": [
       "[('courait', 0.9983959197998047),\n",
       " ('napoléon', 0.9983020424842834),\n",
       " ('venue', 0.9981105327606201),\n",
       " ('moscou', 0.9971253871917725),\n",
       " ('saint', 0.9970275163650513),\n",
       " ('touchait', 0.9968169331550598),\n",
       " ('découvert', 0.9967697262763977),\n",
       " ('prisonnier', 0.9967272281646729),\n",
       " ('favorite', 0.9967223405838013),\n",
       " ('infant', 0.9967095255851746)]"
      ]
     },
     "execution_count": 66,
     "metadata": {},
     "output_type": "execute_result"
    }
   ],
   "source": [
    "model1847.most_similar('empereur')"
   ]
  },
  {
   "cell_type": "code",
   "execution_count": 85,
   "metadata": {
    "collapsed": false
   },
   "outputs": [
    {
     "data": {
      "text/plain": [
       "[('tuileries', 0.9441243410110474),\n",
       " ('amiral', 0.9347630143165588),\n",
       " ('marie-christine', 0.9266616106033325),\n",
       " ('sétubal', 0.9236022233963013),\n",
       " ('marine', 0.9221740365028381),\n",
       " ('renversé', 0.9124029874801636),\n",
       " ('maroc', 0.9116957783699036),\n",
       " ('belges', 0.9101194143295288),\n",
       " ('naples', 0.9087281823158264),\n",
       " ('archiduchesse', 0.9084475636482239)]"
      ]
     },
     "execution_count": 85,
     "metadata": {},
     "output_type": "execute_result"
    }
   ],
   "source": [
    "model1847.most_similar('empereur')"
   ]
  },
  {
   "cell_type": "code",
   "execution_count": 54,
   "metadata": {
    "collapsed": true
   },
   "outputs": [],
   "source": [
    "data1990 = loadYear(\"../data/Cleaned/GDL/1990.pkl\")"
   ]
  },
  {
   "cell_type": "code",
   "execution_count": 55,
   "metadata": {
    "collapsed": false
   },
   "outputs": [
    {
     "data": {
      "text/plain": [
       "40616"
      ]
     },
     "execution_count": 55,
     "metadata": {},
     "output_type": "execute_result"
    }
   ],
   "source": [
    "len(data1990)"
   ]
  },
  {
   "cell_type": "code",
   "execution_count": 61,
   "metadata": {
    "collapsed": false
   },
   "outputs": [],
   "source": [
    "model1990 = Word2Vec(data1990, window = 6)"
   ]
  },
  {
   "cell_type": "code",
   "execution_count": 62,
   "metadata": {
    "collapsed": false
   },
   "outputs": [
    {
     "data": {
      "text/plain": [
       "[('trône', 0.8133695125579834),\n",
       " ('tsar', 0.8035673499107361),\n",
       " ('jackson', 0.7934958338737488),\n",
       " ('juan', 0.7828020453453064),\n",
       " ('émigré', 0.7746816277503967),\n",
       " ('kochno', 0.7745887637138367),\n",
       " ('surnommé', 0.7533029317855835),\n",
       " ('ronald', 0.7496271133422852),\n",
       " ('prince', 0.7494315505027771),\n",
       " ('jérôme', 0.7493991851806641)]"
      ]
     },
     "execution_count": 62,
     "metadata": {},
     "output_type": "execute_result"
    }
   ],
   "source": [
    "model1990.most_similar('empereur')"
   ]
  },
  {
   "cell_type": "markdown",
   "metadata": {},
   "source": [
    "At that point, we have implemented SGNS and now we want to add the constraint of time."
   ]
  },
  {
   "cell_type": "code",
   "execution_count": 7,
   "metadata": {
    "collapsed": false
   },
   "outputs": [],
   "source": [
    "def loadYears(pickle_path, years):\n",
    "    data = []\n",
    "    for y in years:\n",
    "        file = pickle_path + \"/\" + str(y) + \".pkl\"\n",
    "        if os.path.exists(file):\n",
    "            tmp = loadYear(file)\n",
    "            data += tmp\n",
    "        else:\n",
    "            print(file + \" doesn't exist.\")\n",
    "    return data"
   ]
  },
  {
   "cell_type": "code",
   "execution_count": 8,
   "metadata": {
    "collapsed": false
   },
   "outputs": [
    {
     "name": "stdout",
     "output_type": "stream",
     "text": [
      "../data/Cleaned/GDL/1800.pkl doesn't exist.\n",
      "../data/Cleaned/GDL/1801.pkl doesn't exist.\n",
      "../data/Cleaned/GDL/1802.pkl doesn't exist.\n",
      "../data/Cleaned/GDL/1803.pkl doesn't exist.\n"
     ]
    }
   ],
   "source": [
    "test = loadYears(\"../data/Cleaned/GDL\", range(1798,1810))"
   ]
  },
  {
   "cell_type": "code",
   "execution_count": 9,
   "metadata": {
    "collapsed": false
   },
   "outputs": [
    {
     "data": {
      "text/plain": [
       "18111"
      ]
     },
     "execution_count": 9,
     "metadata": {},
     "output_type": "execute_result"
    }
   ],
   "source": [
    "len(test)"
   ]
  },
  {
   "cell_type": "code",
   "execution_count": 37,
   "metadata": {
    "collapsed": false
   },
   "outputs": [],
   "source": [
    "coucou = createModel(test)"
   ]
  },
  {
   "cell_type": "code",
   "execution_count": 11,
   "metadata": {
    "collapsed": false
   },
   "outputs": [
    {
     "data": {
      "text/plain": [
       "[('grande-armée', 0.6801369190216064),\n",
       " ('autrichienne', 0.6175743341445923),\n",
       " ('macdonald', 0.6097933053970337),\n",
       " ('cavalerie', 0.6047843098640442),\n",
       " ('avant-garde', 0.5972333550453186),\n",
       " ('jonction', 0.5957603454589844),\n",
       " ('arm', 0.5910748839378357),\n",
       " ('grandearmée', 0.5873991847038269),\n",
       " ('colonne', 0.5680898427963257),\n",
       " ('mantoue', 0.5666963458061218)]"
      ]
     },
     "execution_count": 11,
     "metadata": {},
     "output_type": "execute_result"
    }
   ],
   "source": [
    "coucou.most_similar(\"armée\") # old"
   ]
  },
  {
   "cell_type": "code",
   "execution_count": 38,
   "metadata": {
    "collapsed": false
   },
   "outputs": [
    {
     "data": {
      "text/plain": [
       "[('grande-armée', 0.612666666507721),\n",
       " ('avant-garde', 0.6105583906173706),\n",
       " ('mantoue', 0.5689403414726257),\n",
       " ('cavalerie', 0.5661460757255554),\n",
       " ('macdonald', 0.5638046860694885),\n",
       " ('autrichienne', 0.5629364848136902),\n",
       " ('colonne', 0.5628435015678406),\n",
       " ('dalmatie', 0.5579834580421448),\n",
       " ('saint-cyr', 0.548736035823822),\n",
       " ('marmont', 0.5485823750495911)]"
      ]
     },
     "execution_count": 38,
     "metadata": {},
     "output_type": "execute_result"
    }
   ],
   "source": [
    "coucou.most_similar(\"armée\")"
   ]
  },
  {
   "cell_type": "code",
   "execution_count": 2,
   "metadata": {
    "collapsed": false
   },
   "outputs": [],
   "source": [
    "import tsne"
   ]
  },
  {
   "cell_type": "code",
   "execution_count": 57,
   "metadata": {
    "collapsed": false
   },
   "outputs": [
    {
     "name": "stdout",
     "output_type": "stream",
     "text": [
      "Preprocessing the data using PCA...\n",
      "Computing pairwise distances...\n",
      "Computing P-values for point  0  of  7 ...\n",
      "Mean value of sigma:  33554432.0\n",
      "Iteration  10 : error is  8.04695919795\n",
      "Iteration  20 : error is  7.73051770021\n",
      "Iteration  30 : error is  14.0688038925\n",
      "Iteration  40 : error is  14.1847018253\n",
      "Iteration  50 : error is  16.7844541097\n",
      "Iteration  60 : error is  8.61918191924\n",
      "Iteration  70 : error is  8.07683187564\n",
      "Iteration  80 : error is  8.01394909659\n",
      "Iteration  90 : error is  7.98433340941\n",
      "Iteration  100 : error is  8.15660805103\n",
      "Iteration  110 : error is  0.67560399446\n",
      "Iteration  120 : error is  0.635989776448\n",
      "Iteration  130 : error is  0.587048583366\n",
      "Iteration  140 : error is  0.52845910445\n",
      "Iteration  150 : error is  0.460413078799\n",
      "Iteration  160 : error is  0.383927068561\n",
      "Iteration  170 : error is  0.310879584037\n",
      "Iteration  180 : error is  0.252773358234\n",
      "Iteration  190 : error is  0.21504597213\n",
      "Iteration  200 : error is  0.194571602483\n",
      "Iteration  210 : error is  0.18270731616\n",
      "Iteration  220 : error is  0.174216079111\n",
      "Iteration  230 : error is  0.168025867068\n",
      "Iteration  240 : error is  0.164030595398\n",
      "Iteration  250 : error is  0.161724198352\n",
      "Iteration  260 : error is  0.160417465238\n",
      "Iteration  270 : error is  0.159654172338\n",
      "Iteration  280 : error is  0.159209241996\n",
      "Iteration  290 : error is  0.158957284467\n",
      "Iteration  300 : error is  0.158818385053\n",
      "Iteration  310 : error is  0.158742803268\n",
      "Iteration  320 : error is  0.158701700147\n",
      "Iteration  330 : error is  0.158679232243\n",
      "Iteration  340 : error is  0.158666876359\n",
      "Iteration  350 : error is  0.158660013287\n",
      "Iteration  360 : error is  0.158656139642\n",
      "Iteration  370 : error is  0.158653914318\n",
      "Iteration  380 : error is  0.158652623982\n",
      "Iteration  390 : error is  0.158651881105\n",
      "Iteration  400 : error is  0.15865146132\n",
      "Iteration  410 : error is  0.15865123058\n",
      "Iteration  420 : error is  0.158651107633\n",
      "Iteration  430 : error is  0.158651043914\n",
      "Iteration  440 : error is  0.158651011309\n",
      "Iteration  450 : error is  0.158650994446\n",
      "Iteration  460 : error is  0.158650985441\n",
      "Iteration  470 : error is  0.158650980443\n",
      "Iteration  480 : error is  0.158650977596\n",
      "Iteration  490 : error is  0.15865097596\n",
      "Iteration  500 : error is  0.158650975031\n",
      "Iteration  510 : error is  0.158650974511\n",
      "Iteration  520 : error is  0.158650974224\n",
      "Iteration  530 : error is  0.158650974065\n",
      "Iteration  540 : error is  0.158650973978\n",
      "Iteration  550 : error is  0.15865097393\n",
      "Iteration  560 : error is  0.158650973905\n",
      "Iteration  570 : error is  0.158650973891\n",
      "Iteration  580 : error is  0.158650973883\n",
      "Iteration  590 : error is  0.158650973879\n",
      "Iteration  600 : error is  0.158650973877\n",
      "Iteration  610 : error is  0.158650973876\n",
      "Iteration  620 : error is  0.158650973875\n",
      "Iteration  630 : error is  0.158650973874\n",
      "Iteration  640 : error is  0.158650973873\n",
      "Iteration  650 : error is  0.158650973873\n",
      "Iteration  660 : error is  0.158650973872\n",
      "Iteration  670 : error is  0.158650973872\n",
      "Iteration  680 : error is  0.158650973871\n",
      "Iteration  690 : error is  0.15865097387\n",
      "Iteration  700 : error is  0.158650973869\n",
      "Iteration  710 : error is  0.158650973869\n",
      "Iteration  720 : error is  0.158650973868\n",
      "Iteration  730 : error is  0.158650973867\n",
      "Iteration  740 : error is  0.158650973866\n",
      "Iteration  750 : error is  0.158650973865\n",
      "Iteration  760 : error is  0.158650973864\n",
      "Iteration  770 : error is  0.158650973863\n",
      "Iteration  780 : error is  0.158650973862\n",
      "Iteration  790 : error is  0.158650973861\n",
      "Iteration  800 : error is  0.158650973859\n",
      "Iteration  810 : error is  0.158650973858\n",
      "Iteration  820 : error is  0.158650973857\n",
      "Iteration  830 : error is  0.158650973856\n",
      "Iteration  840 : error is  0.158650973854\n",
      "Iteration  850 : error is  0.158650973853\n",
      "Iteration  860 : error is  0.158650973851\n",
      "Iteration  870 : error is  0.15865097385\n",
      "Iteration  880 : error is  0.158650973848\n",
      "Iteration  890 : error is  0.158650973847\n",
      "Iteration  900 : error is  0.158650973845\n",
      "Iteration  910 : error is  0.158650973843\n",
      "Iteration  920 : error is  0.158650973841\n",
      "Iteration  930 : error is  0.15865097384\n",
      "Iteration  940 : error is  0.158650973838\n",
      "Iteration  950 : error is  0.158650973836\n",
      "Iteration  960 : error is  0.158650973834\n",
      "Iteration  970 : error is  0.158650973832\n",
      "Iteration  980 : error is  0.15865097383\n",
      "Iteration  990 : error is  0.158650973828\n",
      "Iteration  1000 : error is  0.158650973826\n"
     ]
    }
   ],
   "source": [
    "X = np.asarray([coucou['armée'], coucou['colonne'], coucou['milice'], coucou['diriger'], coucou['pays'], coucou['fribourg'], coucou['canton']])\n",
    "\n",
    "Y = tsne.tsne(X, no_dims=2, initial_dims=300)"
   ]
  },
  {
   "cell_type": "code",
   "execution_count": 58,
   "metadata": {
    "collapsed": false
   },
   "outputs": [
    {
     "data": {
      "text/plain": [
       "array([[  1.19640488e+02,  -4.04992321e+02],\n",
       "       [  2.90913269e+02,   3.06107693e+02],\n",
       "       [ -2.90913223e+02,  -3.06107652e+02],\n",
       "       [ -7.21765372e-06,  -5.78816305e-06],\n",
       "       [  4.10553707e+02,  -9.88844869e+01],\n",
       "       [ -1.19640443e+02,   4.04992261e+02],\n",
       "       [ -4.10553791e+02,   9.88845122e+01]])"
      ]
     },
     "execution_count": 58,
     "metadata": {},
     "output_type": "execute_result"
    }
   ],
   "source": [
    "Y"
   ]
  },
  {
   "cell_type": "code",
   "execution_count": 83,
   "metadata": {
    "collapsed": true
   },
   "outputs": [],
   "source": [
    "def showPoints(data, label):\n",
    "    fig = plt.figure()\n",
    "    ax = fig.add_subplot(1,1,1)\n",
    "    ax.scatter(data[:,0], data[:,1])\n",
    "    for i in range(0,len(label)): \n",
    "        ax.annotate(label[i], xy=(data[i,0], data[i,1]), xytext=(data[i,0], data[i,1]))\n",
    "    plt.show()"
   ]
  },
  {
   "cell_type": "code",
   "execution_count": 85,
   "metadata": {
    "collapsed": false
   },
   "outputs": [
    {
     "name": "stdout",
     "output_type": "stream",
     "text": [
      "Preprocessing the data using PCA...\n",
      "Computing pairwise distances...\n",
      "Computing P-values for point  0  of  10 ...\n",
      "Mean value of sigma:  33554432.0\n",
      "Iteration  10 : error is  8.01526211622\n",
      "Iteration  20 : error is  12.4123777408\n",
      "Iteration  30 : error is  14.1952831831\n",
      "Iteration  40 : error is  14.560212374\n",
      "Iteration  50 : error is  11.6981489901\n",
      "Iteration  60 : error is  11.3108857145\n",
      "Iteration  70 : error is  11.1418732436\n",
      "Iteration  80 : error is  11.418931186\n",
      "Iteration  90 : error is  12.4117437849\n",
      "Iteration  100 : error is  14.2118456627\n",
      "Iteration  110 : error is  0.764305380738\n",
      "Iteration  120 : error is  0.592703846914\n",
      "Iteration  130 : error is  0.505263084077\n",
      "Iteration  140 : error is  0.434149567188\n",
      "Iteration  150 : error is  0.372401943554\n",
      "Iteration  160 : error is  0.322213027489\n",
      "Iteration  170 : error is  0.29083643445\n",
      "Iteration  180 : error is  0.280963470595\n",
      "Iteration  190 : error is  0.278338555948\n",
      "Iteration  200 : error is  0.276034062875\n",
      "Iteration  210 : error is  0.273932713413\n",
      "Iteration  220 : error is  0.271942270474\n",
      "Iteration  230 : error is  0.269993607819\n",
      "Iteration  240 : error is  0.268045912074\n",
      "Iteration  250 : error is  0.266117811148\n",
      "Iteration  260 : error is  0.26430492521\n",
      "Iteration  270 : error is  0.262731689539\n",
      "Iteration  280 : error is  0.261470792377\n",
      "Iteration  290 : error is  0.260495074471\n",
      "Iteration  300 : error is  0.259717043707\n",
      "Iteration  310 : error is  0.25906362481\n",
      "Iteration  320 : error is  0.258491516297\n",
      "Iteration  330 : error is  0.257965952985\n",
      "Iteration  340 : error is  0.257463383235\n",
      "Iteration  350 : error is  0.256976268676\n",
      "Iteration  360 : error is  0.256511082654\n",
      "Iteration  370 : error is  0.256079437046\n",
      "Iteration  380 : error is  0.255689411269\n",
      "Iteration  390 : error is  0.255341128397\n",
      "Iteration  400 : error is  0.255026755799\n",
      "Iteration  410 : error is  0.254734020995\n",
      "Iteration  420 : error is  0.254450403718\n",
      "Iteration  430 : error is  0.254166803681\n",
      "Iteration  440 : error is  0.25387792234\n",
      "Iteration  450 : error is  0.253580843101\n",
      "Iteration  460 : error is  0.253274541398\n",
      "Iteration  470 : error is  0.252960062894\n",
      "Iteration  480 : error is  0.252640741475\n",
      "Iteration  490 : error is  0.252322410863\n",
      "Iteration  500 : error is  0.252014047276\n",
      "Iteration  510 : error is  0.251727701809\n",
      "Iteration  520 : error is  0.251476164503\n",
      "Iteration  530 : error is  0.25126942367\n",
      "Iteration  540 : error is  0.251111661551\n",
      "Iteration  550 : error is  0.251000185499\n",
      "Iteration  560 : error is  0.250926975551\n",
      "Iteration  570 : error is  0.250881877188\n",
      "Iteration  580 : error is  0.250855507821\n",
      "Iteration  590 : error is  0.2508407043\n",
      "Iteration  600 : error is  0.250832650282\n",
      "Iteration  610 : error is  0.250828374604\n",
      "Iteration  620 : error is  0.250826149625\n",
      "Iteration  630 : error is  0.250825011409\n",
      "Iteration  640 : error is  0.250824437819\n",
      "Iteration  650 : error is  0.250824152357\n",
      "Iteration  660 : error is  0.250824011421\n",
      "Iteration  670 : error is  0.250823942047\n",
      "Iteration  680 : error is  0.250823907534\n",
      "Iteration  690 : error is  0.250823889553\n",
      "Iteration  700 : error is  0.250823879273\n",
      "Iteration  710 : error is  0.25082387264\n",
      "Iteration  720 : error is  0.250823867808\n",
      "Iteration  730 : error is  0.250823863836\n",
      "Iteration  740 : error is  0.250823860253\n",
      "Iteration  750 : error is  0.250823856828\n",
      "Iteration  760 : error is  0.250823853443\n",
      "Iteration  770 : error is  0.250823850031\n",
      "Iteration  780 : error is  0.250823846553\n",
      "Iteration  790 : error is  0.250823842985\n",
      "Iteration  800 : error is  0.250823839312\n",
      "Iteration  810 : error is  0.25082383553\n",
      "Iteration  820 : error is  0.250823831639\n",
      "Iteration  830 : error is  0.250823827642\n",
      "Iteration  840 : error is  0.250823823544\n",
      "Iteration  850 : error is  0.25082381935\n",
      "Iteration  860 : error is  0.250823815067\n",
      "Iteration  870 : error is  0.2508238107\n",
      "Iteration  880 : error is  0.250823806258\n",
      "Iteration  890 : error is  0.250823801745\n",
      "Iteration  900 : error is  0.250823797168\n",
      "Iteration  910 : error is  0.250823792533\n",
      "Iteration  920 : error is  0.250823787846\n",
      "Iteration  930 : error is  0.250823783113\n",
      "Iteration  940 : error is  0.25082377834\n",
      "Iteration  950 : error is  0.250823773532\n",
      "Iteration  960 : error is  0.250823768696\n",
      "Iteration  970 : error is  0.250823763836\n",
      "Iteration  980 : error is  0.250823758958\n",
      "Iteration  990 : error is  0.250823754068\n",
      "Iteration  1000 : error is  0.250823749171\n"
     ]
    },
    {
     "data": {
      "image/png": "[encoded data removed]",
      "text/plain": [
       "<matplotlib.figure.Figure at 0x7f8b35c76a58>"
      ]
     },
     "metadata": {},
     "output_type": "display_data"
    }
   ],
   "source": [
    "X_label = coucou.index2word[0:10]\n",
    "X = np.asarray(coucou[X_label])\n",
    "Y = tsne.tsne(X, no_dims=2, initial_dims=300)\n",
    "showPoints(Y, X_label)"
   ]
  },
  {
   "cell_type": "code",
   "execution_count": 76,
   "metadata": {
    "collapsed": false
   },
   "outputs": [
    {
     "data": {
      "text/plain": [
       "'eft'"
      ]
     },
     "execution_count": 76,
     "metadata": {},
     "output_type": "execute_result"
    }
   ],
   "source": [
    "coucou.index2word[0]"
   ]
  },
  {
   "cell_type": "code",
   "execution_count": null,
   "metadata": {
    "collapsed": true
   },
   "outputs": [],
   "source": []
  }
 ],
 "metadata": {
  "kernelspec": {
   "display_name": "Python 3",
   "language": "python",
   "name": "python3"
  },
  "language_info": {
   "codemirror_mode": {
    "name": "ipython",
    "version": 3
   },
   "file_extension": ".py",
   "mimetype": "text/x-python",
   "name": "python",
   "nbconvert_exporter": "python",
   "pygments_lexer": "ipython3",
   "version": "3.4.5"
  }
 },
 "nbformat": 4,
 "nbformat_minor": 0
}
